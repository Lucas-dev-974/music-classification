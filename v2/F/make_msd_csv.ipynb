{
 "cells": [
  {
   "cell_type": "code",
   "execution_count": 1,
   "metadata": {},
   "outputs": [],
   "source": [
    "import numpy as np\n",
    "import h5py\n",
    "import pandas as pd\n",
    "import os\n",
    "import fnmatch"
   ]
  },
  {
   "cell_type": "markdown",
   "metadata": {},
   "source": [
    "**Ce code va service à créer un dataframe avec tout les songs pour afin de générer un csv qui va servir à traiter les données contenus dans les fichiers h5**"
   ]
  },
  {
   "cell_type": "code",
   "execution_count": 2,
   "metadata": {},
   "outputs": [],
   "source": [
    "directory_path = './Data/MillionSongSubset'\n",
    "data_list = []\n",
    "\n",
    "for root, dirnames, filenames in os.walk(directory_path):\n",
    "    for filename in filenames:\n",
    "        if filename.endswith('.h5'):\n",
    "            hdf_file_path = os.path.join(root, filename)\n",
    "            hdf = h5py.File(hdf_file_path, 'r')\n",
    "\n",
    "            analysis_data = hdf['/analysis/songs/'][:]\n",
    "            metadata_data = hdf['/metadata/songs/'][:]\n",
    "            musicbrainz_data = hdf['/musicbrainz/songs/'][:]\n",
    "\n",
    "            combined_data = pd.concat([pd.DataFrame(analysis_data), pd.DataFrame(metadata_data), pd.DataFrame(musicbrainz_data)], axis=1)\n",
    "            \n",
    "            data_list.append(combined_data)\n",
    "            \n",
    "            hdf.close()\n",
    "\n",
    "final_data = pd.concat(data_list, ignore_index=True)"
   ]
  },
  {
   "cell_type": "code",
   "execution_count": 3,
   "metadata": {},
   "outputs": [],
   "source": [
    "csv_file_path = 'MSD2.csv'\n",
    "final_data.to_csv(csv_file_path, index=False, encoding='utf-8')"
   ]
  }
 ],
 "metadata": {
  "kernelspec": {
   "display_name": ".env",
   "language": "python",
   "name": "python3"
  },
  "language_info": {
   "codemirror_mode": {
    "name": "ipython",
    "version": 3
   },
   "file_extension": ".py",
   "mimetype": "text/x-python",
   "name": "python",
   "nbconvert_exporter": "python",
   "pygments_lexer": "ipython3",
   "version": "3.11.4"
  },
  "orig_nbformat": 4
 },
 "nbformat": 4,
 "nbformat_minor": 2
}
