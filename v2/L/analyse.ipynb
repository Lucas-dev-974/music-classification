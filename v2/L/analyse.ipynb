{
 "cells": [
  {
   "cell_type": "code",
   "execution_count": 35,
   "metadata": {},
   "outputs": [],
   "source": [
    "import h5py"
   ]
  },
  {
   "cell_type": "markdown",
   "metadata": {},
   "source": [
    "# Analyse"
   ]
  },
  {
   "cell_type": "code",
   "execution_count": 36,
   "metadata": {},
   "outputs": [
    {
     "data": {
      "text/plain": [
       "<HDF5 file \"TRAAAAW128F429D538.h5\" (mode r)>"
      ]
     },
     "execution_count": 36,
     "metadata": {},
     "output_type": "execute_result"
    }
   ],
   "source": [
    "\n",
    "h5py.File('./Data/MillionSongSubset/A/A/A/TRAAAAW128F429D538.h5', 'r')"
   ]
  },
  {
   "cell_type": "code",
   "execution_count": 37,
   "metadata": {},
   "outputs": [],
   "source": [
    "f = h5py.File('./Data/MillionSongSubset/A/A/A/TRAAAAW128F429D538.h5')"
   ]
  },
  {
   "cell_type": "code",
   "execution_count": 38,
   "metadata": {},
   "outputs": [
    {
     "name": "stdout",
     "output_type": "stream",
     "text": [
      "analysis\n",
      "metadata\n",
      "musicbrainz\n"
     ]
    }
   ],
   "source": [
    "for key in f.keys():\n",
    "    print(key)"
   ]
  },
  {
   "cell_type": "markdown",
   "metadata": {},
   "source": [
    "## metadata"
   ]
  },
  {
   "cell_type": "code",
   "execution_count": 39,
   "metadata": {},
   "outputs": [
    {
     "data": {
      "text/plain": [
       "<HDF5 group \"/metadata\" (5 members)>"
      ]
     },
     "execution_count": 39,
     "metadata": {},
     "output_type": "execute_result"
    }
   ],
   "source": [
    "metadata_group = f['metadata']\n",
    "f['metadata']"
   ]
  },
  {
   "cell_type": "code",
   "execution_count": 40,
   "metadata": {},
   "outputs": [
    {
     "name": "stdout",
     "output_type": "stream",
     "text": [
      "artist_terms\n",
      "artist_terms_freq\n",
      "artist_terms_weight\n",
      "similar_artists\n",
      "songs\n"
     ]
    }
   ],
   "source": [
    "for key in metadata_group.keys():\n",
    "    print(key)"
   ]
  },
  {
   "cell_type": "markdown",
   "metadata": {},
   "source": [
    "### songs"
   ]
  },
  {
   "cell_type": "code",
   "execution_count": 41,
   "metadata": {},
   "outputs": [
    {
     "data": {
      "text/plain": [
       "<HDF5 dataset \"songs\": shape (1,), type \"|V5320\">"
      ]
     },
     "execution_count": 41,
     "metadata": {},
     "output_type": "execute_result"
    }
   ],
   "source": [
    "songs_dataset = metadata_group['songs']\n",
    "metadata_group['songs']"
   ]
  },
  {
   "cell_type": "code",
   "execution_count": 42,
   "metadata": {},
   "outputs": [
    {
     "name": "stdout",
     "output_type": "stream",
     "text": [
      "(b'', 165270, 0.58179377, 0.40199754, b'ARD7TVE1187B99BFB1', nan, b'California - LA', nan, b'e77e51a5-4761-45b3-9847-2051f811e366', b'Casual', 4479, b'', 0, 0, b'Fear Itself', 300848, 0.60211999, b'SOMZWCG12A8C13C480', b\"I Didn't Mean To\", 3401791)\n"
     ]
    }
   ],
   "source": [
    "for i in range(metadata_group['songs'].shape[0]):\n",
    "    print(songs_dataset[i])"
   ]
  },
  {
   "cell_type": "markdown",
   "metadata": {},
   "source": [
    "### artist_terms"
   ]
  },
  {
   "cell_type": "code",
   "execution_count": 44,
   "metadata": {},
   "outputs": [
    {
     "data": {
      "text/plain": [
       "<HDF5 dataset \"artist_terms\": shape (37,), type \"|S256\">"
      ]
     },
     "execution_count": 44,
     "metadata": {},
     "output_type": "execute_result"
    }
   ],
   "source": [
    "artist_terms_dataset = metadata_group['artist_terms']\n",
    "metadata_group['artist_terms']"
   ]
  },
  {
   "cell_type": "code",
   "execution_count": 52,
   "metadata": {},
   "outputs": [
    {
     "name": "stdout",
     "output_type": "stream",
     "text": [
      "b'hip hop'\n",
      "b'underground rap'\n",
      "b'g funk'\n",
      "b'alternative rap'\n",
      "b'gothic rock'\n",
      "b'west coast rap'\n",
      "b'rap'\n",
      "b'club dance'\n",
      "b'singer-songwriter'\n",
      "b'chill-out'\n",
      "b'underground hip hop'\n",
      "b'rock'\n",
      "b'gothic'\n",
      "b'san francisco bay area'\n",
      "b'indie'\n",
      "b'american'\n",
      "b'punk'\n",
      "b'california'\n",
      "b'industrial'\n",
      "b'new york'\n",
      "b'90s'\n",
      "b'latin'\n",
      "b'spanish'\n",
      "b'dark'\n",
      "b'ebm'\n",
      "b'underground'\n",
      "b'deathrock'\n",
      "b'west coast'\n",
      "b'san francisco'\n",
      "b'producer'\n",
      "b'oakland'\n",
      "b'catalan'\n",
      "b'barcelona'\n",
      "b'doomsdope'\n",
      "b'norcal'\n",
      "b'west coast hip hop'\n",
      "b'alternative rock'\n"
     ]
    }
   ],
   "source": [
    "for i in range(metadata_group['artist_terms'].shape[0]):\n",
    "    print(artist_terms_dataset[i])"
   ]
  },
  {
   "cell_type": "code",
   "execution_count": 43,
   "metadata": {},
   "outputs": [],
   "source": [
    "# f.close()"
   ]
  },
  {
   "cell_type": "markdown",
   "metadata": {},
   "source": [
    "### artist_terms_freq"
   ]
  },
  {
   "cell_type": "code",
   "execution_count": 53,
   "metadata": {},
   "outputs": [
    {
     "data": {
      "text/plain": [
       "<HDF5 dataset \"artist_terms_freq\": shape (37,), type \"<f8\">"
      ]
     },
     "execution_count": 53,
     "metadata": {},
     "output_type": "execute_result"
    }
   ],
   "source": [
    "artist_terms_freq_dataset = metadata_group['artist_terms_freq']\n",
    "metadata_group['artist_terms_freq']"
   ]
  },
  {
   "cell_type": "code",
   "execution_count": 54,
   "metadata": {},
   "outputs": [
    {
     "name": "stdout",
     "output_type": "stream",
     "text": [
      "1.0\n",
      "0.7761362332679642\n",
      "0.7296697949672141\n",
      "0.6830107158282134\n",
      "0.7301332762308231\n",
      "0.6715377030793014\n",
      "0.8083483901469112\n",
      "0.6336554489803278\n",
      "0.7296697949672141\n",
      "0.5663102013197745\n",
      "0.5759258385798982\n",
      "0.7690090925570626\n",
      "0.582087746409723\n",
      "0.4749355716499123\n",
      "0.6740227553436094\n",
      "0.6164051081024474\n",
      "0.6496493612454938\n",
      "0.5161409423063581\n",
      "0.6000770981482347\n",
      "0.5198061910954237\n",
      "0.5935399705256396\n",
      "0.565118012646984\n",
      "0.5520548486604197\n",
      "0.5326066927067906\n",
      "0.5395805281010101\n",
      "0.5093150105763604\n",
      "0.4518840212787631\n",
      "0.4484605951362275\n",
      "0.4332014365598537\n",
      "0.43225919972096083\n",
      "0.4269922443136836\n",
      "0.40636693219179193\n",
      "0.3687219278692627\n",
      "0.3558001117813183\n",
      "0.33148333675607794\n",
      "0.2880395082562467\n",
      "0.32120170338191056\n"
     ]
    }
   ],
   "source": [
    "for i in range(metadata_group['artist_terms_freq'].shape[0]):\n",
    "    print(artist_terms_freq_dataset[i])"
   ]
  },
  {
   "cell_type": "markdown",
   "metadata": {},
   "source": [
    "### artist_terms_weight"
   ]
  },
  {
   "cell_type": "code",
   "execution_count": 55,
   "metadata": {},
   "outputs": [
    {
     "data": {
      "text/plain": [
       "<HDF5 dataset \"artist_terms_weight\": shape (37,), type \"<f8\">"
      ]
     },
     "execution_count": 55,
     "metadata": {},
     "output_type": "execute_result"
    }
   ],
   "source": [
    "artist_terms_weight_dataset = metadata_group['artist_terms_weight']\n",
    "metadata_group['artist_terms_weight']"
   ]
  },
  {
   "cell_type": "code",
   "execution_count": 56,
   "metadata": {},
   "outputs": [
    {
     "name": "stdout",
     "output_type": "stream",
     "text": [
      "1.0\n",
      "0.8979359555142553\n",
      "0.8842618474718359\n",
      "0.8426297484850139\n",
      "0.8425630112670967\n",
      "0.8323928211548188\n",
      "0.8257770654736906\n",
      "0.7985919450639284\n",
      "0.7431758993422717\n",
      "0.7385023747459266\n",
      "0.72505244758609\n",
      "0.713899551507097\n",
      "0.6704941695194879\n",
      "0.656972312483721\n",
      "0.6510561349680433\n",
      "0.6510561186438805\n",
      "0.6510559651343301\n",
      "0.6510559152863945\n",
      "0.6510554706308296\n",
      "0.6510553231400179\n",
      "0.6510550801784563\n",
      "0.6510550558792941\n",
      "0.6510546137119497\n",
      "0.6510542722544133\n",
      "0.6510537559678614\n",
      "0.6510499653311267\n",
      "0.6364043020437286\n",
      "0.6333497107686731\n",
      "0.6197345513606897\n",
      "0.6188938297247364\n",
      "0.6141943283003359\n",
      "0.5957911567903574\n",
      "0.5622019695360193\n",
      "0.5506723307949678\n",
      "0.5289754091331579\n",
      "0.4902121544387527\n",
      "0.3834107654627478\n"
     ]
    }
   ],
   "source": [
    "for i in range(metadata_group['artist_terms_weight'].shape[0]):\n",
    "    print(artist_terms_weight_dataset[i])"
   ]
  },
  {
   "cell_type": "markdown",
   "metadata": {},
   "source": [
    "## analysis"
   ]
  },
  {
   "cell_type": "code",
   "execution_count": 57,
   "metadata": {},
   "outputs": [
    {
     "data": {
      "text/plain": [
       "<HDF5 group \"/analysis\" (16 members)>"
      ]
     },
     "execution_count": 57,
     "metadata": {},
     "output_type": "execute_result"
    }
   ],
   "source": [
    "metadata_group = f['analysis']\n",
    "f['analysis']"
   ]
  },
  {
   "cell_type": "code",
   "execution_count": 58,
   "metadata": {},
   "outputs": [
    {
     "name": "stdout",
     "output_type": "stream",
     "text": [
      "bars_confidence\n",
      "bars_start\n",
      "beats_confidence\n",
      "beats_start\n",
      "sections_confidence\n",
      "sections_start\n",
      "segments_confidence\n",
      "segments_loudness_max\n",
      "segments_loudness_max_time\n",
      "segments_loudness_start\n",
      "segments_pitches\n",
      "segments_start\n",
      "segments_timbre\n",
      "songs\n",
      "tatums_confidence\n",
      "tatums_start\n"
     ]
    }
   ],
   "source": [
    "for key in metadata_group.keys():\n",
    "    print(key)"
   ]
  },
  {
   "cell_type": "markdown",
   "metadata": {},
   "source": [
    "### bars_confidence"
   ]
  },
  {
   "cell_type": "code",
   "execution_count": 60,
   "metadata": {},
   "outputs": [
    {
     "data": {
      "text/plain": [
       "<HDF5 dataset \"bars_confidence\": shape (83,), type \"<f8\">"
      ]
     },
     "execution_count": 60,
     "metadata": {},
     "output_type": "execute_result"
    }
   ],
   "source": [
    "dataset = metadata_group['bars_confidence']\n",
    "metadata_group['bars_confidence']"
   ]
  },
  {
   "cell_type": "code",
   "execution_count": 61,
   "metadata": {},
   "outputs": [
    {
     "name": "stdout",
     "output_type": "stream",
     "text": [
      "0.643\n",
      "0.746\n",
      "0.722\n",
      "0.095\n",
      "0.091\n",
      "0.362\n",
      "0.465\n",
      "0.204\n",
      "0.129\n",
      "0.618\n",
      "0.192\n",
      "0.053\n",
      "0.855\n",
      "0.236\n",
      "0.616\n",
      "0.008\n",
      "0.113\n",
      "0.155\n",
      "0.027\n",
      "0.593\n",
      "0.707\n",
      "0.453\n",
      "0.434\n",
      "0.059\n",
      "0.994\n",
      "0.727\n",
      "0.442\n",
      "0.489\n",
      "0.861\n",
      "0.007\n",
      "0.019\n",
      "0.18\n",
      "0.28\n",
      "0.07\n",
      "0.008\n",
      "0.19\n",
      "0.1\n",
      "0.038\n",
      "0.074\n",
      "0.076\n",
      "0.185\n",
      "0.002\n",
      "0.023\n",
      "0.074\n",
      "0.393\n",
      "0.163\n",
      "0.119\n",
      "0.048\n",
      "0.119\n",
      "0.006\n",
      "0.021\n",
      "0.0\n",
      "0.0\n",
      "0.0\n",
      "0.0\n",
      "0.0\n",
      "0.0\n",
      "0.0\n",
      "0.0\n",
      "0.0\n",
      "0.0\n",
      "0.0\n",
      "0.0\n",
      "0.0\n",
      "0.0\n",
      "0.0\n",
      "0.0\n",
      "0.0\n",
      "0.0\n",
      "0.0\n",
      "0.0\n",
      "0.0\n",
      "0.0\n",
      "0.0\n",
      "0.0\n",
      "0.0\n",
      "0.0\n",
      "0.0\n",
      "0.0\n",
      "0.0\n",
      "0.0\n",
      "0.0\n",
      "0.0\n"
     ]
    }
   ],
   "source": [
    "for i in range(metadata_group['bars_confidence'].shape[0]):\n",
    "    print(dataset[i])"
   ]
  },
  {
   "cell_type": "markdown",
   "metadata": {},
   "source": [
    "### songs"
   ]
  },
  {
   "cell_type": "code",
   "execution_count": 62,
   "metadata": {},
   "outputs": [
    {
     "data": {
      "text/plain": [
       "<HDF5 dataset \"songs\": shape (1,), type \"|V220\">"
      ]
     },
     "execution_count": 62,
     "metadata": {},
     "output_type": "execute_result"
    }
   ],
   "source": [
    "dataset = metadata_group['songs']\n",
    "metadata_group['songs']"
   ]
  },
  {
   "cell_type": "code",
   "execution_count": 63,
   "metadata": {},
   "outputs": [
    {
     "name": "stdout",
     "output_type": "stream",
     "text": [
      "(22050, b'a222795e07cd65b7a530f1346f520649', 0., 218.93179, 0.247, 0., 0, 0, 0, 0, 0, 0, 0, 0, 0, 0, 0, 0, 0, 0, 0, 1, 0.736, -11.197, 0, 0.636, 218.932, 92.198, 4, 0.778, b'TRAAAAW128F429D538')\n"
     ]
    }
   ],
   "source": [
    "for i in range(metadata_group['songs'].shape[0]):\n",
    "    print(dataset[i])"
   ]
  },
  {
   "cell_type": "markdown",
   "metadata": {},
   "source": [
    "## musicbrainz"
   ]
  },
  {
   "cell_type": "code",
   "execution_count": 64,
   "metadata": {},
   "outputs": [
    {
     "data": {
      "text/plain": [
       "<HDF5 group \"/musicbrainz\" (3 members)>"
      ]
     },
     "execution_count": 64,
     "metadata": {},
     "output_type": "execute_result"
    }
   ],
   "source": [
    "metadata_group = f['musicbrainz']\n",
    "f['musicbrainz']"
   ]
  },
  {
   "cell_type": "code",
   "execution_count": 65,
   "metadata": {},
   "outputs": [
    {
     "name": "stdout",
     "output_type": "stream",
     "text": [
      "artist_mbtags\n",
      "artist_mbtags_count\n",
      "songs\n"
     ]
    }
   ],
   "source": [
    "for key in metadata_group.keys():\n",
    "    print(key)"
   ]
  },
  {
   "cell_type": "markdown",
   "metadata": {},
   "source": [
    "### songs"
   ]
  },
  {
   "cell_type": "code",
   "execution_count": 66,
   "metadata": {},
   "outputs": [
    {
     "data": {
      "text/plain": [
       "<HDF5 dataset \"songs\": shape (1,), type \"|V8\">"
      ]
     },
     "execution_count": 66,
     "metadata": {},
     "output_type": "execute_result"
    }
   ],
   "source": [
    "songs_dataset = metadata_group['songs']\n",
    "metadata_group['songs']"
   ]
  },
  {
   "cell_type": "code",
   "execution_count": 67,
   "metadata": {},
   "outputs": [
    {
     "name": "stdout",
     "output_type": "stream",
     "text": [
      "(0, 0)\n"
     ]
    }
   ],
   "source": [
    "for i in range(metadata_group['songs'].shape[0]):\n",
    "    print(songs_dataset[i])"
   ]
  },
  {
   "cell_type": "markdown",
   "metadata": {},
   "source": [
    "# ."
   ]
  },
  {
   "cell_type": "code",
   "execution_count": null,
   "metadata": {},
   "outputs": [],
   "source": []
  }
 ],
 "metadata": {
  "kernelspec": {
   "display_name": ".env",
   "language": "python",
   "name": "python3"
  },
  "language_info": {
   "codemirror_mode": {
    "name": "ipython",
    "version": 3
   },
   "file_extension": ".py",
   "mimetype": "text/x-python",
   "name": "python",
   "nbconvert_exporter": "python",
   "pygments_lexer": "ipython3",
   "version": "3.11.4"
  },
  "orig_nbformat": 4
 },
 "nbformat": 4,
 "nbformat_minor": 2
}
