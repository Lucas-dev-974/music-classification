{
 "cells": [
  {
   "cell_type": "markdown",
   "metadata": {},
   "source": [
    "# Extraction des features d'un fichier audio (à tester)"
   ]
  },
  {
   "cell_type": "code",
   "execution_count": null,
   "metadata": {},
   "outputs": [],
   "source": [
    "import librosa\n",
    "import pandas as pd\n",
    "\n",
    "# Chemin vers la musique\n",
    "music_file_path = 'chemin/vers/ma_chanson.mp3'\n",
    "\n",
    "# Charger le fichier CSV généré\n",
    "csv_file_path = 'MSD.csv'\n",
    "df = pd.read_csv(csv_file_path)\n",
    "\n",
    "# Charger le fichier audio\n",
    "y, sr = librosa.load(music_file_path)\n",
    "\n",
    "# Extraire les caractéristiques\n",
    "danceability_value = librosa.feature.danceability(y=y, sr=sr)\n",
    "energy_value = librosa.feature.rms(y=y)[0]  # Mesure d'énergie\n",
    "key_value, key_strength = librosa.key(y=y, sr=sr)  # Tonalité\n",
    "loudness_value = librosa.feature.rms(y=y)[0]  # Loudness\n",
    "tempo_value, _ = librosa.beat.beat_track(y=y, sr=sr)  # Tempo\n",
    "time_signature_value = librosa.beat.beat_track(y=y, sr=sr, units='time')[1]  # Signature rythmique\n",
    "\n",
    "# Afficher les valeurs extraites\n",
    "print(f\"Danceability : {danceability_value}\")\n",
    "print(f\"Energy : {energy_value}\")\n",
    "print(f\"Key : {key_value} (Strength : {key_strength})\")\n",
    "print(f\"Loudness : {loudness_value}\")\n",
    "print(f\"Tempo : {tempo_value}\")\n",
    "print(f\"Time Signature : {time_signature_value}\")"
   ]
  },
  {
   "cell_type": "code",
   "execution_count": null,
   "metadata": {},
   "outputs": [],
   "source": []
  }
 ],
 "metadata": {
  "language_info": {
   "name": "python"
  },
  "orig_nbformat": 4
 },
 "nbformat": 4,
 "nbformat_minor": 2
}
